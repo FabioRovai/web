{
  "nbformat": 4,
  "nbformat_minor": 0,
  "metadata": {
    "colab": {
      "name": "Welcome_to_Colaboratory.ipynb",
      "provenance": [],
      "collapsed_sections": [],
      "include_colab_link": true
    },
    "kernelspec": {
      "display_name": "Python 3",
      "name": "python3"
    }
  },
  "cells": [
    {
      "cell_type": "markdown",
      "metadata": {
        "id": "view-in-github",
        "colab_type": "text"
      },
      "source": [
        "<a href=\"https://colab.research.google.com/github/FabioRovai/web/blob/main/Welcome_to_Colaboratory.ipynb\" target=\"_parent\"><img src=\"https://colab.research.google.com/assets/colab-badge.svg\" alt=\"Open In Colab\"/></a>"
      ]
    },
    {
      "cell_type": "code",
      "metadata": {
        "id": "IdBdMc5ztZz8",
        "colab": {
          "base_uri": "https://localhost:8080/"
        },
        "outputId": "34b5f537-3fa9-4f16-a792-6e711ddf935d"
      },
      "source": [
        "!wget https://raw.githubusercontent.com/FabioRovai/web/main/pT.py --quiet\n",
        "!wget https://raw.githubusercontent.com/FabioRovai/web/main/Protein_ID.py --quiet\n",
        "!pip install flask-ngrok --q\n",
        "!wget https://github.com/FabioRovai/web/blob/main/templates.zip?raw=true -O templates.zip\n",
        "!unzip '/content/templates.zip'\n",
        "!wget  https://raw.githubusercontent.com/FabioRovai/test7/main/PDB.txt -O PDB.txt "
      ],
      "execution_count": 11,
      "outputs": [
        {
          "output_type": "stream",
          "name": "stdout",
          "text": [
            "--2021-10-07 16:17:15--  https://github.com/FabioRovai/web/blob/main/templates.zip?raw=true\n",
            "Resolving github.com (github.com)... 140.82.112.4\n",
            "Connecting to github.com (github.com)|140.82.112.4|:443... connected.\n",
            "HTTP request sent, awaiting response... 302 Found\n",
            "Location: https://github.com/FabioRovai/web/raw/main/templates.zip [following]\n",
            "--2021-10-07 16:17:15--  https://github.com/FabioRovai/web/raw/main/templates.zip\n",
            "Reusing existing connection to github.com:443.\n",
            "HTTP request sent, awaiting response... 302 Found\n",
            "Location: https://raw.githubusercontent.com/FabioRovai/web/main/templates.zip [following]\n",
            "--2021-10-07 16:17:15--  https://raw.githubusercontent.com/FabioRovai/web/main/templates.zip\n",
            "Resolving raw.githubusercontent.com (raw.githubusercontent.com)... 185.199.108.133, 185.199.109.133, 185.199.110.133, ...\n",
            "Connecting to raw.githubusercontent.com (raw.githubusercontent.com)|185.199.108.133|:443... connected.\n",
            "HTTP request sent, awaiting response... 200 OK\n",
            "Length: 1914 (1.9K) [application/zip]\n",
            "Saving to: ‘templates.zip’\n",
            "\n",
            "templates.zip       100%[===================>]   1.87K  --.-KB/s    in 0s      \n",
            "\n",
            "2021-10-07 16:17:16 (30.1 MB/s) - ‘templates.zip’ saved [1914/1914]\n",
            "\n",
            "Archive:  /content/templates.zip\n",
            "replace __MACOSX/._templates? [y]es, [n]o, [A]ll, [N]one, [r]ename: N\n",
            "--2021-10-07 16:17:41--  https://raw.githubusercontent.com/FabioRovai/test7/main/PDB.txt\n",
            "Resolving raw.githubusercontent.com (raw.githubusercontent.com)... 185.199.109.133, 185.199.110.133, 185.199.108.133, ...\n",
            "Connecting to raw.githubusercontent.com (raw.githubusercontent.com)|185.199.109.133|:443... connected.\n",
            "HTTP request sent, awaiting response... 200 OK\n",
            "Length: 311618 (304K) [text/plain]\n",
            "Saving to: ‘PDB.txt’\n",
            "\n",
            "PDB.txt             100%[===================>] 304.31K  --.-KB/s    in 0.03s   \n",
            "\n",
            "2021-10-07 16:17:42 (9.08 MB/s) - ‘PDB.txt’ saved [311618/311618]\n",
            "\n"
          ]
        }
      ]
    },
    {
      "cell_type": "code",
      "metadata": {
        "id": "zqU_RcsivRHT"
      },
      "source": [
        "import flask\n",
        "import argparse\n",
        "from flask import Flask, render_template, request\n",
        "import pickle\n",
        "import numpy as np\n",
        "from flask_ngrok import run_with_ngrok\n",
        "import itertools\n",
        "import IPython\n",
        "import IPython.display as ipd\n",
        "import matplotlib.pyplot as plt\n",
        "import os \n",
        "import pandas as pd\n",
        "import random\n",
        "import re\n",
        "import requests \n",
        "import seaborn as sns\n",
        "import shutil \n",
        "import soundfile as sf\n",
        "import sys\n",
        "import warnings\n",
        "import zipfile\n",
        "from contextlib import suppress\n",
        "from __future__ import generators\n",
        "from IPython.display import clear_output \n",
        "from mpl_toolkits.mplot3d import Axes3D\n",
        "from scipy.spatial import ConvexHull\n",
        "from scipy.io import wavfile\n",
        "\n",
        "warnings.filterwarnings(\"ignore\")\n"
      ],
      "execution_count": 12,
      "outputs": []
    },
    {
      "cell_type": "code",
      "metadata": {
        "colab": {
          "base_uri": "https://localhost:8080/"
        },
        "id": "nPNjtRtJOXvi",
        "outputId": "5ee982e7-33ef-4141-a5fb-6602de6116bf"
      },
      "source": [
        "ID = '3X2MA'\n",
        "! python /content/pT.py -full_protein_ID_foo $ID"
      ],
      "execution_count": 13,
      "outputs": [
        {
          "output_type": "stream",
          "name": "stdout",
          "text": [
            "<Figure size 640x480 with 1 Axes>\n",
            "\n"
          ]
        }
      ]
    },
    {
      "cell_type": "code",
      "metadata": {
        "colab": {
          "base_uri": "https://localhost:8080/"
        },
        "id": "asrKoOylGFp3",
        "outputId": "9a9a2848-c57b-414e-e530-a220900233c7"
      },
      "source": [
        "from flask import send_file\n",
        "app = FlasNk(__name__)\n",
        "run_with_ngrok(app)\n",
        "@app.route('/')\n",
        "def download_file():\n",
        "    return send_file('/content/test_wave.wav', mimetype = \"audio/wav\")\n",
        "app.run()"
      ],
      "execution_count": 14,
      "outputs": [
        {
          "output_type": "stream",
          "name": "stdout",
          "text": [
            " * Serving Flask app \"__main__\" (lazy loading)\n",
            " * Environment: production\n",
            "\u001b[31m   WARNING: This is a development server. Do not use it in a production deployment.\u001b[0m\n",
            "\u001b[2m   Use a production WSGI server instead.\u001b[0m\n",
            " * Debug mode: off\n"
          ]
        },
        {
          "output_type": "stream",
          "name": "stderr",
          "text": [
            " * Running on http://127.0.0.1:5000/ (Press CTRL+C to quit)\n"
          ]
        },
        {
          "output_type": "stream",
          "name": "stdout",
          "text": [
            " * Running on http://4438-34-74-30-72.ngrok.io\n",
            " * Traffic stats available on http://127.0.0.1:4040\n"
          ]
        },
        {
          "output_type": "stream",
          "name": "stderr",
          "text": [
            "127.0.0.1 - - [07/Oct/2021 16:17:48] \"\u001b[33mGET /robots.txt HTTP/1.1\u001b[0m\" 404 -\n",
            "127.0.0.1 - - [07/Oct/2021 16:17:48] \"\u001b[37mGET / HTTP/1.1\u001b[0m\" 200 -\n",
            "127.0.0.1 - - [07/Oct/2021 16:17:49] \"\u001b[37mGET / HTTP/1.1\u001b[0m\" 200 -\n",
            "127.0.0.1 - - [07/Oct/2021 16:17:49] \"\u001b[37mGET / HTTP/1.1\u001b[0m\" 200 -\n"
          ]
        }
      ]
    }
  ]
}